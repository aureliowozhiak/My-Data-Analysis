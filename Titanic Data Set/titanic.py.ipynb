{
 "cells": [
  {
   "cell_type": "markdown",
   "metadata": {},
   "source": [
    "# Tratando um dataset, sobre os passageiros do titanic, apartir de um csv, sem utilizar pandas ou outra biblioteca de análise de dados"
   ]
  },
  {
   "cell_type": "code",
   "execution_count": 4,
   "metadata": {},
   "outputs": [],
   "source": [
    "#Abrindo e lendo o dataset titanic.csv\n",
    "titanic_csv = open('titanic.csv','r')\n",
    "\n",
    "lines = titanic_csv.readlines()"
   ]
  },
  {
   "cell_type": "code",
   "execution_count": 5,
   "metadata": {
    "scrolled": true
   },
   "outputs": [],
   "source": [
    "#fechando conexão com o arquivo de leitura\n",
    "titanic_csv.close()"
   ]
  },
  {
   "cell_type": "code",
   "execution_count": 6,
   "metadata": {},
   "outputs": [
    {
     "name": "stdout",
     "output_type": "stream",
     "text": [
      "['PassengerId', 'Survived', 'Pclass', 'Name', 'Sex', 'Age', 'SibSp', 'Parch', 'Ticket', 'Fare', 'Cabin', 'Embarked\\n']\n"
     ]
    }
   ],
   "source": [
    "#salvando em \"header\" apenas o cabeçalho do arquivo separado por virgula\n",
    "\n",
    "header = lines[0].split(',')\n",
    "\n",
    "print(header)"
   ]
  },
  {
   "cell_type": "code",
   "execution_count": 7,
   "metadata": {},
   "outputs": [
    {
     "data": {
      "text/plain": [
       "'1,0,3,\"Braund, Mr. Owen Harris\",male,22,1,0,A/5 21171,7.25,,S\\n'"
      ]
     },
     "execution_count": 7,
     "metadata": {},
     "output_type": "execute_result"
    }
   ],
   "source": [
    "#visualizando padrão do nome (\"sobrenome, nome\")\n",
    "lines[1]"
   ]
  },
  {
   "cell_type": "code",
   "execution_count": 8,
   "metadata": {},
   "outputs": [
    {
     "data": {
      "text/plain": [
       "'1,0,3,\"Mr. Owen Harris Braund\",male,22,1,0,A/5 21171,7.25,,S\\n'"
      ]
     },
     "execution_count": 8,
     "metadata": {},
     "output_type": "execute_result"
    }
   ],
   "source": [
    "#tratando os nomes no padrão norte americano \n",
    "#para o padrão Pt-br usando a biblioteca regex\n",
    "import re\n",
    "\n",
    "def treatName(line):\n",
    "    match = re.compile(r'\"(.*)(,)(\\s)(.*)\"')\n",
    "    return match.sub(r'\"\\4 \\1\"', line)\n",
    "\n",
    "#visualizando padrão do nome (\"nome sobrenome\")\n",
    "treatName(lines[1])"
   ]
  },
  {
   "cell_type": "code",
   "execution_count": 9,
   "metadata": {},
   "outputs": [
    {
     "data": {
      "text/plain": [
       "{'PassengerId': [],\n",
       " 'Survived': [],\n",
       " 'Pclass': [],\n",
       " 'Name': [],\n",
       " 'Sex': [],\n",
       " 'Age': [],\n",
       " 'SibSp': [],\n",
       " 'Parch': [],\n",
       " 'Ticket': [],\n",
       " 'Fare': [],\n",
       " 'Cabin': [],\n",
       " 'Embarked\\n': []}"
      ]
     },
     "execution_count": 9,
     "metadata": {},
     "output_type": "execute_result"
    }
   ],
   "source": [
    "#criando um dicionário com o cabeçalho e abrindo lista para info dos passageiros\n",
    "titanicInfo = {}\n",
    "for head in header:\n",
    "    titanicInfo[head] = []\n",
    "titanicInfo"
   ]
  },
  {
   "cell_type": "code",
   "execution_count": 11,
   "metadata": {},
   "outputs": [],
   "source": [
    "#criando uma lista com os dados separados por virgula\n",
    "dataList = []\n",
    "for data in lines[1:]:\n",
    "    splitedLine = treatName(data).split(',')\n",
    "    dataList.append(splitedLine)"
   ]
  },
  {
   "cell_type": "code",
   "execution_count": 8,
   "metadata": {},
   "outputs": [],
   "source": [
    "#dando um \"join\" da dataList com o dict cabeçalho \n",
    "for passenger in dataList:\n",
    "    for i, info in enumerate(passenger):\n",
    "        titanicInfo[header[i]].append(info)"
   ]
  },
  {
   "cell_type": "code",
   "execution_count": 12,
   "metadata": {},
   "outputs": [],
   "source": [
    "#imprime todos os nomes apartir do dicionario\n",
    "#for data in titanicInfo[\"Name\"]:\n",
    "#    print(data)"
   ]
  },
  {
   "cell_type": "code",
   "execution_count": 13,
   "metadata": {},
   "outputs": [],
   "source": [
    "#imprime todas as idades\n",
    "#for data in titanicInfo[\"Age\"]:\n",
    "#    print(data)"
   ]
  },
  {
   "cell_type": "code",
   "execution_count": 10,
   "metadata": {},
   "outputs": [],
   "source": [
    "#trando idades \"vazias\" e convertendo para tipo numerico\n",
    "for i, age in enumerate(titanicInfo[\"Age\"]):\n",
    "    if titanicInfo[\"Age\"][i] != '':\n",
    "        titanicInfo[\"Age\"][i] = float(age)\n",
    "    else:\n",
    "        titanicInfo[\"Age\"][i] = -1"
   ]
  },
  {
   "cell_type": "code",
   "execution_count": 14,
   "metadata": {},
   "outputs": [],
   "source": [
    "#imprime todas as idades\n",
    "#for data in titanicInfo[\"Age\"]:\n",
    "#    print(data)"
   ]
  },
  {
   "cell_type": "code",
   "execution_count": 12,
   "metadata": {},
   "outputs": [],
   "source": [
    "#lista com idades válidas\n",
    "ageList = []\n",
    "for age in titanicInfo[\"Age\"]:\n",
    "    if age != -1:\n",
    "        ageList.append(age)"
   ]
  },
  {
   "cell_type": "code",
   "execution_count": 13,
   "metadata": {},
   "outputs": [],
   "source": [
    "#função pra tirar média\n",
    "def avg(listNumbers):\n",
    "    return sum(listNumbers)/len(listNumbers)"
   ]
  },
  {
   "cell_type": "code",
   "execution_count": 14,
   "metadata": {},
   "outputs": [
    {
     "name": "stdout",
     "output_type": "stream",
     "text": [
      "28.141507936507935\n"
     ]
    }
   ],
   "source": [
    "#media de idades\n",
    "avgAges = avg(ageList)\n",
    "print(avgAges)"
   ]
  },
  {
   "cell_type": "code",
   "execution_count": 15,
   "metadata": {},
   "outputs": [],
   "source": [
    "#substituindo idades inválidas para válidas\n",
    "for i, age in enumerate(titanicInfo[\"Age\"]):\n",
    "    if age == -1:\n",
    "        titanicInfo[\"Age\"][i] = avgAges"
   ]
  },
  {
   "cell_type": "code",
   "execution_count": 16,
   "metadata": {},
   "outputs": [
    {
     "name": "stdout",
     "output_type": "stream",
     "text": [
      "22.0\n",
      "38.0\n",
      "26.0\n",
      "35.0\n",
      "35.0\n",
      "28.141507936507935\n",
      "54.0\n",
      "2.0\n",
      "27.0\n",
      "14.0\n",
      "4.0\n",
      "58.0\n",
      "20.0\n",
      "39.0\n",
      "14.0\n",
      "55.0\n",
      "2.0\n",
      "28.141507936507935\n",
      "31.0\n",
      "28.141507936507935\n",
      "35.0\n",
      "34.0\n",
      "15.0\n",
      "28.0\n",
      "8.0\n",
      "38.0\n",
      "28.141507936507935\n",
      "19.0\n",
      "28.141507936507935\n",
      "28.141507936507935\n",
      "40.0\n",
      "28.141507936507935\n",
      "28.141507936507935\n",
      "66.0\n",
      "28.0\n",
      "42.0\n",
      "28.141507936507935\n",
      "21.0\n",
      "18.0\n",
      "14.0\n",
      "40.0\n",
      "27.0\n",
      "28.141507936507935\n",
      "3.0\n",
      "19.0\n",
      "28.141507936507935\n",
      "28.141507936507935\n",
      "28.141507936507935\n",
      "28.141507936507935\n",
      "18.0\n",
      "7.0\n",
      "21.0\n",
      "49.0\n",
      "29.0\n",
      "65.0\n",
      "28.141507936507935\n",
      "21.0\n",
      "28.5\n",
      "5.0\n",
      "11.0\n",
      "22.0\n",
      "38.0\n",
      "45.0\n",
      "4.0\n",
      "28.141507936507935\n",
      "28.141507936507935\n",
      "29.0\n",
      "19.0\n",
      "17.0\n",
      "26.0\n",
      "32.0\n",
      "16.0\n",
      "21.0\n",
      "26.0\n",
      "32.0\n",
      "25.0\n",
      "28.141507936507935\n",
      "28.141507936507935\n",
      "0.83\n",
      "30.0\n",
      "22.0\n",
      "29.0\n",
      "28.141507936507935\n",
      "28.0\n",
      "17.0\n",
      "33.0\n",
      "16.0\n",
      "28.141507936507935\n",
      "23.0\n",
      "24.0\n",
      "29.0\n",
      "20.0\n",
      "46.0\n",
      "26.0\n",
      "59.0\n",
      "28.141507936507935\n",
      "71.0\n",
      "23.0\n",
      "34.0\n",
      "34.0\n",
      "28.0\n",
      "28.141507936507935\n",
      "21.0\n",
      "33.0\n",
      "37.0\n",
      "28.0\n",
      "21.0\n",
      "28.141507936507935\n",
      "38.0\n",
      "28.141507936507935\n",
      "47.0\n",
      "14.5\n",
      "22.0\n",
      "20.0\n",
      "17.0\n",
      "21.0\n",
      "70.5\n",
      "29.0\n",
      "24.0\n",
      "2.0\n",
      "21.0\n",
      "28.141507936507935\n",
      "32.5\n",
      "32.5\n",
      "54.0\n",
      "12.0\n",
      "28.141507936507935\n",
      "24.0\n",
      "28.141507936507935\n",
      "45.0\n",
      "33.0\n",
      "20.0\n",
      "47.0\n",
      "29.0\n",
      "25.0\n",
      "23.0\n",
      "19.0\n",
      "37.0\n",
      "16.0\n",
      "24.0\n",
      "28.141507936507935\n",
      "22.0\n",
      "24.0\n",
      "19.0\n",
      "18.0\n",
      "19.0\n",
      "27.0\n",
      "9.0\n",
      "36.5\n",
      "42.0\n",
      "51.0\n",
      "22.0\n",
      "55.5\n",
      "40.5\n",
      "28.141507936507935\n",
      "51.0\n"
     ]
    }
   ],
   "source": [
    "#imprime todas as idades ATUALIZADAS (valores nulo substitidos pela media)\n",
    "for data in titanicInfo[\"Age\"]:\n",
    "    print(data)"
   ]
  },
  {
   "cell_type": "code",
   "execution_count": null,
   "metadata": {},
   "outputs": [],
   "source": []
  }
 ],
 "metadata": {
  "kernelspec": {
   "display_name": "Python 3",
   "language": "python",
   "name": "python3"
  },
  "language_info": {
   "codemirror_mode": {
    "name": "ipython",
    "version": 3
   },
   "file_extension": ".py",
   "mimetype": "text/x-python",
   "name": "python",
   "nbconvert_exporter": "python",
   "pygments_lexer": "ipython3",
   "version": "3.7.6"
  }
 },
 "nbformat": 4,
 "nbformat_minor": 4
}
